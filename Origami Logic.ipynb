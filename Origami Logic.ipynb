{
 "cells": [
  {
   "cell_type": "code",
   "execution_count": 7,
   "metadata": {},
   "outputs": [
    {
     "name": "stdout",
     "output_type": "stream",
     "text": [
      "No Of Common Pages Liked Between User and His Friends\n"
     ]
    }
   ],
   "source": [
    "import requests\n",
    "\n",
    "base_url = \"https://graph.facebook.com/v2.11\"\n",
    "\n",
    "likes_url = \"https://graph.facebook.com/v2.11/me/likes?access_token=\"\n",
    "\n",
    "access_token = \"EAACEdEose0cBAHRZChcjWmSLZCwGvHRpuRbrvz9A3HFmjKw9l2Nb79nX11E2zgFjL6BOpvzeZBoQZBdQTAMXZBZB9axm8fOqjIl1Ww8hMUJfVyKM1rfyYt2qQQxEZCSzJBOuFx1DyPlx50mHPAAehBQsJBJAtD4R3dXwBtldwIZBlac1TGKzgm3lyYkWMqpLUMAZD\"\n",
    "res = requests.get(likes_url+access_token)\n",
    "if res.status_code == 200:\n",
    "  data = res.json()\n",
    "\n",
    "pages_liked_by_me = set() \n",
    "for page in data[\"data\"]:\n",
    "  pages_liked_by_me.add(page['name'])\n",
    "   \n",
    "print(\"No Of Common Pages Liked Between User and His Friends\")\n",
    "\n",
    "friends_url = base_url + \"/me/friends?access_token=\"\n",
    "\n",
    "res = requests.get(friends_url+access_token)\n",
    "if res.status_code == 200:\n",
    "  data = res.json()\n",
    "  \n",
    "friends_ids = []\n",
    "for friend in data[\"data\"]:\n",
    "  friends_ids.append(friend['id'])\n",
    "  \n",
    "for friend in friends_ids:\n",
    "  res = requests.get(base_url+ \"/\" + friend + \"/likes?access_token=\" + access_token)\n",
    "  pages_liked_by_him = set()\n",
    "  if res.status_code == 200:\n",
    "    likes = res.json()\n",
    "    for page in likes['data']:\n",
    "        pages_liked_by_him.add(page['name'])\n",
    "    print(len(pages_liked_by_him & pages_liked_by_me))\n"
   ]
  },
  {
   "cell_type": "code",
   "execution_count": null,
   "metadata": {
    "collapsed": true
   },
   "outputs": [],
   "source": []
  }
 ],
 "metadata": {
  "kernelspec": {
   "display_name": "Python 3",
   "language": "python",
   "name": "python3"
  },
  "language_info": {
   "codemirror_mode": {
    "name": "ipython",
    "version": 3
   },
   "file_extension": ".py",
   "mimetype": "text/x-python",
   "name": "python",
   "nbconvert_exporter": "python",
   "pygments_lexer": "ipython3",
   "version": "3.6.1"
  }
 },
 "nbformat": 4,
 "nbformat_minor": 2
}
